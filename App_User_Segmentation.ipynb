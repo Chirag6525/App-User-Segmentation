{
 "cells": [
  {
   "cell_type": "code",
   "execution_count": 2,
   "id": "b1b9df56-9f1d-4065-a2cb-d33823c73826",
   "metadata": {},
   "outputs": [
    {
     "data": {
      "text/html": [
       "<div>\n",
       "<style scoped>\n",
       "    .dataframe tbody tr th:only-of-type {\n",
       "        vertical-align: middle;\n",
       "    }\n",
       "\n",
       "    .dataframe tbody tr th {\n",
       "        vertical-align: top;\n",
       "    }\n",
       "\n",
       "    .dataframe thead th {\n",
       "        text-align: right;\n",
       "    }\n",
       "</style>\n",
       "<table border=\"1\" class=\"dataframe\">\n",
       "  <thead>\n",
       "    <tr style=\"text-align: right;\">\n",
       "      <th></th>\n",
       "      <th>userid</th>\n",
       "      <th>Average Screen Time</th>\n",
       "      <th>Average Spent on App (INR)</th>\n",
       "      <th>Left Review</th>\n",
       "      <th>Ratings</th>\n",
       "      <th>New Password Request</th>\n",
       "      <th>Last Visited Minutes</th>\n",
       "      <th>Status</th>\n",
       "    </tr>\n",
       "  </thead>\n",
       "  <tbody>\n",
       "    <tr>\n",
       "      <th>0</th>\n",
       "      <td>1001</td>\n",
       "      <td>17.0</td>\n",
       "      <td>634.0</td>\n",
       "      <td>1</td>\n",
       "      <td>9</td>\n",
       "      <td>7</td>\n",
       "      <td>2990</td>\n",
       "      <td>Installed</td>\n",
       "    </tr>\n",
       "    <tr>\n",
       "      <th>1</th>\n",
       "      <td>1002</td>\n",
       "      <td>0.0</td>\n",
       "      <td>54.0</td>\n",
       "      <td>0</td>\n",
       "      <td>4</td>\n",
       "      <td>8</td>\n",
       "      <td>24008</td>\n",
       "      <td>Uninstalled</td>\n",
       "    </tr>\n",
       "    <tr>\n",
       "      <th>2</th>\n",
       "      <td>1003</td>\n",
       "      <td>37.0</td>\n",
       "      <td>207.0</td>\n",
       "      <td>0</td>\n",
       "      <td>8</td>\n",
       "      <td>5</td>\n",
       "      <td>971</td>\n",
       "      <td>Installed</td>\n",
       "    </tr>\n",
       "    <tr>\n",
       "      <th>3</th>\n",
       "      <td>1004</td>\n",
       "      <td>32.0</td>\n",
       "      <td>445.0</td>\n",
       "      <td>1</td>\n",
       "      <td>6</td>\n",
       "      <td>2</td>\n",
       "      <td>799</td>\n",
       "      <td>Installed</td>\n",
       "    </tr>\n",
       "    <tr>\n",
       "      <th>4</th>\n",
       "      <td>1005</td>\n",
       "      <td>45.0</td>\n",
       "      <td>427.0</td>\n",
       "      <td>1</td>\n",
       "      <td>5</td>\n",
       "      <td>6</td>\n",
       "      <td>3668</td>\n",
       "      <td>Installed</td>\n",
       "    </tr>\n",
       "  </tbody>\n",
       "</table>\n",
       "</div>"
      ],
      "text/plain": [
       "   userid  Average Screen Time  Average Spent on App (INR)  Left Review  \\\n",
       "0    1001                 17.0                       634.0            1   \n",
       "1    1002                  0.0                        54.0            0   \n",
       "2    1003                 37.0                       207.0            0   \n",
       "3    1004                 32.0                       445.0            1   \n",
       "4    1005                 45.0                       427.0            1   \n",
       "\n",
       "   Ratings  New Password Request  Last Visited Minutes       Status  \n",
       "0        9                     7                  2990    Installed  \n",
       "1        4                     8                 24008  Uninstalled  \n",
       "2        8                     5                   971    Installed  \n",
       "3        6                     2                   799    Installed  \n",
       "4        5                     6                  3668    Installed  "
      ]
     },
     "execution_count": 2,
     "metadata": {},
     "output_type": "execute_result"
    }
   ],
   "source": [
    "import pandas as pd\n",
    "import plotly.graph_objects as go\n",
    "import plotly.express as px\n",
    "import plotly.io as pio\n",
    "pio.templates.default = \"plotly_white\"\n",
    "data = pd.read_csv('userbehaviour.csv')\n",
    "data.head()"
   ]
  },
  {
   "cell_type": "code",
   "execution_count": 3,
   "id": "df611207-e22e-4142-ad6b-5dbc36b76b9e",
   "metadata": {},
   "outputs": [
    {
     "name": "stdout",
     "output_type": "stream",
     "text": [
      "Average Screen Time = 24.39039039039039\n",
      "Highest Screen Time = 50.0\n",
      "Lowest Screen Time = 0.0\n"
     ]
    }
   ],
   "source": [
    "print(f'Average Screen Time = {data[\"Average Screen Time\"].mean()}')\n",
    "print(f'Highest Screen Time = {data[\"Average Screen Time\"].max()}')\n",
    "print(f'Lowest Screen Time = {data[\"Average Screen Time\"].min()}')"
   ]
  },
  {
   "cell_type": "code",
   "execution_count": 4,
   "id": "be9d4e74-c4c7-4588-b369-957c1c50cdce",
   "metadata": {},
   "outputs": [
    {
     "name": "stdout",
     "output_type": "stream",
     "text": [
      "Average Screen Time = 424.4154154154154\n",
      "Highest Screen Time = 998.0\n",
      "Lowest Screen Time = 0.0\n"
     ]
    }
   ],
   "source": [
    "print(f'Average Screen Time = {data[\"Average Spent on App (INR)\"].mean()}')\n",
    "print(f'Highest Screen Time = {data[\"Average Spent on App (INR)\"].max()}')\n",
    "print(f'Lowest Screen Time = {data[\"Average Spent on App (INR)\"].min()}')"
   ]
  },
  {
   "cell_type": "code",
   "execution_count": null,
   "id": "fe568ff0-3e5b-4bb5-8ca7-5b8b7f2207d3",
   "metadata": {},
   "outputs": [],
   "source": [
    "figure = px.scatter(data_frame = data,\n",
    "                   x = \"Average Screen Time\",\n",
    "                   y = \"Average Spent on App (INR)\",\n",
    "                   size = \"Average Spent on App (INR)\",\n",
    "                   color = \"Status\",\n",
    "                   title = \"Relationship Between Spending Capacity and ScreenTime\",\n",
    "                   )"
   ]
  }
 ],
 "metadata": {
  "kernelspec": {
   "display_name": "Python 3 (ipykernel)",
   "language": "python",
   "name": "python3"
  },
  "language_info": {
   "codemirror_mode": {
    "name": "ipython",
    "version": 3
   },
   "file_extension": ".py",
   "mimetype": "text/x-python",
   "name": "python",
   "nbconvert_exporter": "python",
   "pygments_lexer": "ipython3",
   "version": "3.12.4"
  }
 },
 "nbformat": 4,
 "nbformat_minor": 5
}
